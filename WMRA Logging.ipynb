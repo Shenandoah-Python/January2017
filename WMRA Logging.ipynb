{
 "cells": [
  {
   "cell_type": "markdown",
   "metadata": {},
   "source": [
    "Essentially, I am determining session length from an nginx log file.\n",
    "\n",
    "[Some of this explanation may not be completely correct, but the technical parts relating to our problem are correct.]\n",
    "\n",
    "WMRA streams its content over the Internet. They have to report on the number and length of sessions.\n",
    "\n",
    "They have two streaming servers; icecast and nginx. Some folks on the Internet have created a script that can generate the necessary report data from the icecast log files.\n",
    "\n",
    "There is an expensive add-on to the nginx server that generates the data, but is out of their budget.\n",
    "\n",
    "I offered to help them take the information from the nginx server logs and generate something that looks like the icecast logs.\n",
    "\n",
    "Then, WMRA can just use the Internet script to generate the actual reports."
   ]
  },
  {
   "cell_type": "markdown",
   "metadata": {},
   "source": [
    "To listen to a stream, the client software makes a request for an index file which has information about the next chunk of stream. This happens every 40 seconds.\n",
    "\n",
    "So, for each client, we just need to look for breaks in the 40 second requests. Then we can determine the length of their session."
   ]
  },
  {
   "cell_type": "code",
   "execution_count": null,
   "metadata": {
    "collapsed": true
   },
   "outputs": [],
   "source": [
    "import pandas as pd\n",
    "import re"
   ]
  },
  {
   "cell_type": "code",
   "execution_count": null,
   "metadata": {
    "collapsed": true
   },
   "outputs": [],
   "source": [
    "from datetime import timedelta"
   ]
  },
  {
   "cell_type": "code",
   "execution_count": null,
   "metadata": {
    "collapsed": true
   },
   "outputs": [],
   "source": [
    "# sample data\n",
    "#\n",
    "# the first line is a request for an index file\n",
    "# the second is the next chunk of stream\n",
    "#\n",
    "# 96.249.243.92 - - [03/Oct/2016:03:20:11 -0400] \"GET /hls/wmra_hi/index.m3u8 HTTP/1.1\" 200 128 \"-\" \"AppleCoreMedia/1.0.0.14A456 (iPhone; U; CPU OS 10_0_2 like Mac OS X; en_us)\"\n",
    "# 96.249.243.92 - - [03/Oct/2016:03:20:12 -0400] \"GET /hls/wmra_hi/32291.ts HTTP/1.1\" 200 1161464 \"-\" \"AppleCoreMedia/1.0.0.14A456 (iPhone; U; CPU OS 10_0_2 like Mac OS X; en_us)\"\n",
    "\n",
    "# from http://nginx.org/en/docs/http/ngx_http_log_module.html#log_format\n",
    "# log_format combined '$remote_addr - $remote_user [$time_local] '\n",
    "#                     '\"$request\" $status $body_bytes_sent '\n",
    "#                     '\"$http_referer\" \"$http_user_agent\"';"
   ]
  },
  {
   "cell_type": "code",
   "execution_count": null,
   "metadata": {
    "collapsed": true
   },
   "outputs": [],
   "source": [
    "# here is a regex that matches a valid GET request \n",
    "# and grabs each of the fields from the request\n",
    "# ip, user, timestamp, request, status, size, referer, agent\n",
    "regex = re.compile('(\\d{1,3}\\.\\d{1,3}\\.\\d{1,3}\\.\\d{1,3}) - (.+) \\[(.+)\\] \"GET (.+)\" (\\d{3}) (\\d+) \"(.*)\" \"(.+)\"')"
   ]
  },
  {
   "cell_type": "code",
   "execution_count": null,
   "metadata": {
    "collapsed": false
   },
   "outputs": [],
   "source": [
    "# create a dataframe from the nginx log file\n",
    "def get_df_from_log(log):\n",
    "    rows = []\n",
    "    columns = ['ip', 'user', 'timestamp', 'request', 'status', 'size', 'referer', 'agent']\n",
    "    misses = []\n",
    "    with open(log) as myfile:\n",
    "        for line in myfile:\n",
    "            # df only contains valid GET requests\n",
    "            # misses contains invalid or non GET requests\n",
    "            match = regex.match(line)\n",
    "            if match:\n",
    "                row = {'ip': match.group(1), \n",
    "                       'user': match.group(2),\n",
    "                       'timestamp': match.group(3),\n",
    "                       'request': match.group(4), \n",
    "                       'status': match.group(5), \n",
    "                       'size': match.group(6), \n",
    "                       'referer': match.group(7), \n",
    "                       'agent': match.group(8)}\n",
    "                rows.append(row)\n",
    "            else:\n",
    "                misses.append(line)\n",
    "    df = (pd.DataFrame(rows, columns=columns))\n",
    "    return (df, misses)"
   ]
  },
  {
   "cell_type": "code",
   "execution_count": null,
   "metadata": {
    "collapsed": false
   },
   "outputs": [],
   "source": [
    "df, misses = get_df_from_log('data/nginxlog')"
   ]
  },
  {
   "cell_type": "code",
   "execution_count": null,
   "metadata": {
    "collapsed": false
   },
   "outputs": [],
   "source": [
    "# there are 47992 rows and 8 columns\n",
    "df.shape"
   ]
  },
  {
   "cell_type": "code",
   "execution_count": null,
   "metadata": {
    "collapsed": false
   },
   "outputs": [],
   "source": [
    "df.head()"
   ]
  },
  {
   "cell_type": "code",
   "execution_count": null,
   "metadata": {
    "collapsed": true
   },
   "outputs": [],
   "source": []
  },
  {
   "cell_type": "code",
   "execution_count": null,
   "metadata": {
    "collapsed": false
   },
   "outputs": [],
   "source": [
    "# len(misses)"
   ]
  },
  {
   "cell_type": "code",
   "execution_count": null,
   "metadata": {
    "collapsed": false
   },
   "outputs": [],
   "source": [
    "# misses"
   ]
  },
  {
   "cell_type": "code",
   "execution_count": null,
   "metadata": {
    "collapsed": false
   },
   "outputs": [],
   "source": []
  },
  {
   "cell_type": "code",
   "execution_count": null,
   "metadata": {
    "collapsed": false
   },
   "outputs": [],
   "source": [
    "# reqs = df['request'].unique()"
   ]
  },
  {
   "cell_type": "code",
   "execution_count": null,
   "metadata": {
    "collapsed": false
   },
   "outputs": [],
   "source": [
    "# len(reqs)"
   ]
  },
  {
   "cell_type": "code",
   "execution_count": null,
   "metadata": {
    "collapsed": false
   },
   "outputs": [],
   "source": [
    "# reqs"
   ]
  },
  {
   "cell_type": "code",
   "execution_count": null,
   "metadata": {
    "collapsed": true
   },
   "outputs": [],
   "source": []
  },
  {
   "cell_type": "code",
   "execution_count": null,
   "metadata": {
    "collapsed": true
   },
   "outputs": [],
   "source": [
    "# we are only interested in the index requests\n",
    "df = df[df['request'].str.contains('index')]"
   ]
  },
  {
   "cell_type": "code",
   "execution_count": null,
   "metadata": {
    "collapsed": false
   },
   "outputs": [],
   "source": [
    "# we are down to 19669 rows\n",
    "df.shape"
   ]
  },
  {
   "cell_type": "code",
   "execution_count": null,
   "metadata": {
    "collapsed": true
   },
   "outputs": [],
   "source": []
  },
  {
   "cell_type": "code",
   "execution_count": null,
   "metadata": {
    "collapsed": false
   },
   "outputs": [],
   "source": [
    "# create a datetime column from the timestamp\n",
    "\n",
    "def make_datetime(df):\n",
    "    df = df.copy()\n",
    "    # fix timestamp string for pd.to_datetime\n",
    "    # change colon between date and time to space\n",
    "    df['timestamp'] = df['timestamp'].str.replace(':', ' ', 1)\n",
    "    \n",
    "    # add datetime column from timestamp\n",
    "    # this takes a little while\n",
    "    df['datetime'] = pd.to_datetime(df['timestamp'])\n",
    "    \n",
    "    return df"
   ]
  },
  {
   "cell_type": "code",
   "execution_count": null,
   "metadata": {
    "collapsed": true
   },
   "outputs": [],
   "source": [
    "df = make_datetime(df)"
   ]
  },
  {
   "cell_type": "code",
   "execution_count": null,
   "metadata": {
    "collapsed": false
   },
   "outputs": [],
   "source": [
    "# we added a column\n",
    "df.shape"
   ]
  },
  {
   "cell_type": "code",
   "execution_count": null,
   "metadata": {
    "collapsed": false
   },
   "outputs": [],
   "source": [
    "df.head()"
   ]
  },
  {
   "cell_type": "code",
   "execution_count": null,
   "metadata": {
    "collapsed": true
   },
   "outputs": [],
   "source": [
    "# sort the dataframe by ip address and time of request\n",
    "df.sort_values(['ip', 'datetime'], inplace=True)"
   ]
  },
  {
   "cell_type": "code",
   "execution_count": null,
   "metadata": {
    "collapsed": false
   },
   "outputs": [],
   "source": [
    "df.head()"
   ]
  },
  {
   "cell_type": "code",
   "execution_count": null,
   "metadata": {
    "collapsed": true
   },
   "outputs": [],
   "source": []
  },
  {
   "cell_type": "code",
   "execution_count": null,
   "metadata": {
    "collapsed": true
   },
   "outputs": [],
   "source": [
    "# add session and duration columns with default values\n",
    "df['session'] = 0\n",
    "df['duration'] = timedelta(0)"
   ]
  },
  {
   "cell_type": "code",
   "execution_count": null,
   "metadata": {
    "collapsed": false
   },
   "outputs": [],
   "source": [
    "# 2 more columns\n",
    "df.shape"
   ]
  },
  {
   "cell_type": "code",
   "execution_count": null,
   "metadata": {
    "collapsed": false
   },
   "outputs": [],
   "source": [
    "df.head()"
   ]
  },
  {
   "cell_type": "code",
   "execution_count": null,
   "metadata": {
    "collapsed": true
   },
   "outputs": [],
   "source": []
  },
  {
   "cell_type": "code",
   "execution_count": null,
   "metadata": {
    "collapsed": true
   },
   "outputs": [],
   "source": [
    "# the requests should come every 40 seconds. This allows for some variance\n",
    "def in_range(delta):\n",
    "    if delta >= timedelta(seconds=35) and delta <= timedelta(seconds=45):\n",
    "        return True\n",
    "    return False"
   ]
  },
  {
   "cell_type": "code",
   "execution_count": null,
   "metadata": {
    "collapsed": true
   },
   "outputs": [],
   "source": [
    "# add delta and in_range columns\n",
    "# delta is length of time since last request\n",
    "df['delta'] = df['datetime'].diff().fillna(0)\n",
    "# is delta close to 40 seconds?\n",
    "df['in_range'] = df['delta'].apply(in_range)"
   ]
  },
  {
   "cell_type": "code",
   "execution_count": null,
   "metadata": {
    "collapsed": false
   },
   "outputs": [],
   "source": [
    "df.shape"
   ]
  },
  {
   "cell_type": "code",
   "execution_count": null,
   "metadata": {
    "collapsed": false
   },
   "outputs": [],
   "source": [
    "df.head()"
   ]
  },
  {
   "cell_type": "code",
   "execution_count": null,
   "metadata": {
    "collapsed": true
   },
   "outputs": [],
   "source": []
  },
  {
   "cell_type": "markdown",
   "metadata": {
    "collapsed": true
   },
   "source": [
    "Here is my brute force way of solving the problem. It loops through each line. I believe there may be a better way to do this using Pandas grouping features."
   ]
  },
  {
   "cell_type": "code",
   "execution_count": null,
   "metadata": {
    "collapsed": true
   },
   "outputs": [],
   "source": [
    "def calculate_session_duration(prepped_df):\n",
    "    # calculate a timedelta for each session\n",
    "    # while requests from an ip are in_range, we keep cumsum\n",
    "    # we increment session when not in_range, and\n",
    "    # reset session for each ip \n",
    "    # add session and duration to the df\n",
    "    df_copy = prepped_df.copy()\n",
    "    iterator = df_copy.iterrows()\n",
    "    _, last = next(iterator)\n",
    "    ip = last['ip']\n",
    "    session = 0\n",
    "    cumsum = timedelta(0)\n",
    "    for i, row in iterator:\n",
    "        # reset session count for each client\n",
    "        if row['ip'] != last['ip']:\n",
    "            session = 0\n",
    "        # if same session, calculate cumsum \n",
    "        if row['in_range']:\n",
    "            cumsum += row['delta']\n",
    "            # print(cumsum)\n",
    "        # else, reset cumsum and increment session\n",
    "        else:\n",
    "            cumsum = timedelta(0)\n",
    "            session += 1\n",
    "        # write cumsum and session to df\n",
    "        df_copy.loc[i, 'duration'] = cumsum\n",
    "        df_copy.loc[i, 'session'] = session\n",
    "        # save index and row for comparison\n",
    "        # _, last = i, row\n",
    "        last = row\n",
    "    return df_copy"
   ]
  },
  {
   "cell_type": "code",
   "execution_count": null,
   "metadata": {
    "collapsed": true
   },
   "outputs": [],
   "source": []
  },
  {
   "cell_type": "code",
   "execution_count": null,
   "metadata": {
    "collapsed": true
   },
   "outputs": [],
   "source": [
    "# df.loc[19927, 'in_range'] = False"
   ]
  },
  {
   "cell_type": "code",
   "execution_count": null,
   "metadata": {
    "collapsed": false
   },
   "outputs": [],
   "source": [
    "# this takes a little while\n",
    "with_duration = calculate_session_duration(df)"
   ]
  },
  {
   "cell_type": "code",
   "execution_count": null,
   "metadata": {
    "collapsed": false
   },
   "outputs": [],
   "source": [
    "# we haven't modified the shape of the dataframe, just some of the values\n",
    "with_duration.shape"
   ]
  },
  {
   "cell_type": "code",
   "execution_count": null,
   "metadata": {
    "collapsed": false
   },
   "outputs": [],
   "source": [
    "# with_duration.loc[with_duration['ip'] == '96.249.243.92', :].head(25)\n",
    "with_duration.head(50)"
   ]
  },
  {
   "cell_type": "code",
   "execution_count": null,
   "metadata": {
    "collapsed": true
   },
   "outputs": [],
   "source": []
  },
  {
   "cell_type": "code",
   "execution_count": null,
   "metadata": {
    "collapsed": false
   },
   "outputs": [],
   "source": [
    "with_duration.tail()"
   ]
  },
  {
   "cell_type": "code",
   "execution_count": null,
   "metadata": {
    "collapsed": true
   },
   "outputs": [],
   "source": []
  },
  {
   "cell_type": "code",
   "execution_count": null,
   "metadata": {
    "collapsed": false
   },
   "outputs": [],
   "source": [
    "# df.isnull().sum()"
   ]
  },
  {
   "cell_type": "code",
   "execution_count": null,
   "metadata": {
    "collapsed": false
   },
   "outputs": [],
   "source": [
    "# df.loc[df['request'].str.contains('index'), 'request'].unique()"
   ]
  },
  {
   "cell_type": "code",
   "execution_count": null,
   "metadata": {
    "collapsed": false
   },
   "outputs": [],
   "source": [
    "# df.loc[df['request'].str.contains('wxjm'), 'request'].unique()"
   ]
  },
  {
   "cell_type": "code",
   "execution_count": null,
   "metadata": {
    "collapsed": false
   },
   "outputs": [],
   "source": [
    "# df.loc[df['request'].str.contains('vv'), 'request'].unique()"
   ]
  },
  {
   "cell_type": "code",
   "execution_count": null,
   "metadata": {
    "collapsed": false
   },
   "outputs": [],
   "source": [
    "# df.loc[df['request'].str.contains('wmra'), 'request'].unique()"
   ]
  },
  {
   "cell_type": "code",
   "execution_count": null,
   "metadata": {
    "collapsed": false
   },
   "outputs": [],
   "source": [
    "# df.loc[df['request'].str.contains('index'), 'request'].unique()"
   ]
  },
  {
   "cell_type": "code",
   "execution_count": null,
   "metadata": {
    "collapsed": false
   },
   "outputs": [],
   "source": []
  },
  {
   "cell_type": "code",
   "execution_count": null,
   "metadata": {
    "collapsed": false
   },
   "outputs": [],
   "source": [
    "# with_duration['session'].unique()"
   ]
  },
  {
   "cell_type": "code",
   "execution_count": null,
   "metadata": {
    "collapsed": true
   },
   "outputs": [],
   "source": []
  }
 ],
 "metadata": {
  "kernelspec": {
   "display_name": "Python 2",
   "language": "python",
   "name": "python2"
  },
  "language_info": {
   "codemirror_mode": {
    "name": "ipython",
    "version": 2
   },
   "file_extension": ".py",
   "mimetype": "text/x-python",
   "name": "python",
   "nbconvert_exporter": "python",
   "pygments_lexer": "ipython2",
   "version": "2.7.10"
  }
 },
 "nbformat": 4,
 "nbformat_minor": 1
}
